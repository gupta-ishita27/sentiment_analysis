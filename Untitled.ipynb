{
 "cells": [
  {
   "cell_type": "code",
   "execution_count": 1,
   "metadata": {},
   "outputs": [],
   "source": [
    "# Importing Scrapy Library\n",
    "import scrapy"
   ]
  },
  {
   "cell_type": "code",
   "execution_count": 11,
   "metadata": {},
   "outputs": [],
   "source": [
    "class AmazonReviewsSpider(scrapy.Spider):\n",
    " \n",
    "    # Spider name\n",
    "    name = 'amazon_reviews'\n",
    " \n",
    "    # Domain names to scrape\n",
    "    allowed_domains = ['amazon.in']\n",
    " \n",
    "    # Base URL for the MacBook air reviews\n",
    "    myBaseUrl = \"https://www.amazon.in/SKUDGEAR-Multi-Purpose-Reading-Foldable-Non-Slip/product-reviews/B0822999TS/ref=cm_cr_arp_d_paging_btm_next_2?ie=UTF8&reviewerType=all_reviews&pageNumber=2\"\n",
    "    start_urls=[]\n",
    " \n",
    "    # Creating list of urls to be scraped by appending page number a the end of base url\n",
    "    for i in range(1,121):\n",
    "        start_urls.append(myBaseUrl+str(i))\n",
    " \n",
    "    # Defining a Scrapy parser\n",
    "    def parse(self, response):\n",
    "            data = response.css('#cm_cr-review_list')\n",
    " \n",
    "            # Collecting product star ratings\n",
    "            star_rating = data.css('.review-rating')\n",
    " \n",
    "            # Collecting user reviews\n",
    "            comments = data.css('.review-text')\n",
    "            count = 0\n",
    " \n",
    "            # Combining the results\n",
    "            for review in star_rating:\n",
    "                yield{'stars': ''.join(review.xpath('.//text()').extract()),\n",
    "                      'comment': ''.join(comments[count].xpath(\".//text()\").extract())\n",
    "                     }\n",
    "                count=count+1"
   ]
  },
  {
   "cell_type": "code",
   "execution_count": null,
   "metadata": {},
   "outputs": [],
   "source": []
  }
 ],
 "metadata": {
  "kernelspec": {
   "display_name": "Python 2",
   "language": "python",
   "name": "python2"
  },
  "language_info": {
   "codemirror_mode": {
    "name": "ipython",
    "version": 2
   },
   "file_extension": ".py",
   "mimetype": "text/x-python",
   "name": "python",
   "nbconvert_exporter": "python",
   "pygments_lexer": "ipython2",
   "version": "2.7.15"
  }
 },
 "nbformat": 4,
 "nbformat_minor": 2
}
